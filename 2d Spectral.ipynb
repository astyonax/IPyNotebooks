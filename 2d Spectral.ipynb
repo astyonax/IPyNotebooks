{
 "cells": [
  {
   "cell_type": "markdown",
   "metadata": {},
   "source": [
    "\n",
    "Solving 2D Allen-Cahn Eq using pseudo-spectral with Implicit/Explicit\n",
    "$$u_t= \\epsilon(u_{xx}+u_{yy}) + u - u^3$$\n",
    "where u-u^3 is treated explicitly and $u_{xx}$ and $u_{yy}$ is treated implicitly\n",
    "BC = Periodic\n",
    "$$IC=v=sin(2\\pix)+0.5 cos(4\\pi y)$$\n"
   ]
  },
  {
   "cell_type": "code",
   "execution_count": null,
   "metadata": {
    "collapsed": true
   },
   "outputs": [],
   "source": [
    "#!/usr/bin/env python\n",
    "\n",
    "\n",
    "import math\n",
    "import numpy\n",
    "import matplotlib.pyplot as plt\n",
    "from mpl_toolkits.mplot3d import Axes3D\n",
    "from matplotlib import cm\n",
    "from matplotlib.ticker import LinearLocator\n",
    "import time\n",
    " \n",
    "plt.ion()\n",
    "\n",
    "# Setup the grid\n",
    "N = 64; h = 1.0/N; \n",
    "x = [h*i for i in xrange(1,N+1)]\n",
    "y = [h*i for i in xrange(1,N+1)]\n",
    "dt = 0.05\n",
    "xx,yy = (numpy.mat(A) for A in (numpy.meshgrid(x,y)))\n",
    "\n",
    "# Initial Conditions\n",
    "u = numpy.array(numpy.sin(2*math.pi*xx) + 0.5*numpy.cos(4*math.pi*yy), dtype=float)\n",
    "\n",
    "epsilon = 0.01\n",
    "\n",
    "# (ik) and (ik)^2 vectors in x and y direction\n",
    "I = complex(0,1)\n",
    "k_x = numpy.array([I*n for n in range(0,N/2) + [0] + range(-N/2+1,0)])\n",
    "k_y = k_x\n",
    "\n",
    "kxx = numpy.zeros((N,N), dtype=complex)\n",
    "kyy = numpy.zeros((N,N), dtype=complex)\n",
    "for i in xrange(N):\n",
    "    for j in xrange(N):\n",
    "        kxx[i,j] = k_x[i]**2\n",
    "        kyy[i,j] = k_y[j]**2\n",
    "    \n",
    "fig = plt.figure()\n",
    "ax = fig.add_subplot(111, projection='3d')\n",
    "surf = ax.plot_surface(xx, yy, u,rstride=1, cstride=1, cmap=cm.jet,\n",
    "        linewidth=0, antialiased=False)\n",
    "fig.colorbar(surf, shrink=0.5, aspect=5)\n",
    "plt.xlabel('x')\n",
    "plt.ylabel('y')\n",
    "plt.show()\n",
    "\n",
    "v_hat = numpy.zeros((N,N), dtype=complex)\n",
    "v_hat = numpy.fft.fft2(u)\n",
    "\n",
    "for n in xrange(100):\n",
    "    print n\n",
    "    # calculate nonlinear term in real space\n",
    "    v_nl = numpy.array(u**3, dtype=complex)        \n",
    "\t# FFT for nonlinear and linear terms\n",
    "    v_nl = numpy.fft.fft2(v_nl)\n",
    "    v_hat = (v_hat*(1+1/dt) - v_nl)\n",
    "    v_hat=v_hat/(1/dt - (kxx+kyy)*epsilon)  # Implicit/Explicit timestepping\n",
    "    u = numpy.real(numpy.fft.ifft2(v_hat))\n",
    "    # Remove old plot before drawing\n",
    "    ax.collections.remove(surf)\n",
    "    surf = ax.plot_surface(xx, yy, u,rstride=1, cstride=1, cmap=cm.jet, \n",
    "         linewidth=0, antialiased=False)\n",
    "    plt.draw()\n",
    "plt.show()    \n"
   ]
  },
  {
   "cell_type": "code",
   "execution_count": null,
   "metadata": {
    "collapsed": true
   },
   "outputs": [],
   "source": []
  }
 ],
 "metadata": {
  "kernelspec": {
   "display_name": "Python 2",
   "language": "python",
   "name": "python2"
  },
  "language_info": {
   "codemirror_mode": {
    "name": "ipython",
    "version": 2
   },
   "file_extension": ".py",
   "mimetype": "text/x-python",
   "name": "python",
   "nbconvert_exporter": "python",
   "pygments_lexer": "ipython2",
   "version": "2.7.10"
  }
 },
 "nbformat": 4,
 "nbformat_minor": 0
}
